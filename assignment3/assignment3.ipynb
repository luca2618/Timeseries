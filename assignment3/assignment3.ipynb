{
 "cells": [
  {
   "cell_type": "markdown",
   "id": "441e5056",
   "metadata": {},
   "source": [
    "# ARMA and seasonal Processes, and ARX transfer function models\n",
    "\n",
    "## 1 Stability"
   ]
  },
  {
   "cell_type": "markdown",
   "id": "62c0b3ef",
   "metadata": {},
   "source": [
    "## 2 Predicting monthly solar power"
   ]
  },
  {
   "cell_type": "markdown",
   "id": "63772d1e",
   "metadata": {},
   "source": [
    "## 3 An ARX model for the heating of a box"
   ]
  }
 ],
 "metadata": {
  "language_info": {
   "name": "python"
  }
 },
 "nbformat": 4,
 "nbformat_minor": 5
}
